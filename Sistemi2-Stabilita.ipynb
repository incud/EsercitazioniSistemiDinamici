{
 "cells": [
  {
   "cell_type": "markdown",
   "metadata": {},
   "source": [
    "# Stabilità\n",
    "\n",
    "### Punti di equilibrio\n",
    "\n",
    "Uno stato $x_e$ è in equilibrio per il sistema continuo $\\dot{x}(t) = f(x(t))$ se soddisfa $0 = f(x_e)$. \n",
    "\n",
    "Uno stato $x_e$ è in equilibrio per il sistema discreto $x(k+1) = f(x(k))$ se soddisfa $x_e = f(x_e)$. \n",
    "\n",
    "### Equilibrio stabile\n",
    "\n",
    "Un punto di equilibrio è detto stabile (non necessariamente asintoticamente) se vale che \n",
    "$$ \\forall \\varepsilon > 0 \\quad \\exists \\delta > 0 : \\text{ se } || x(0) - x_e || < \\delta \\text{ allora } ||x(t) - x_e|| < \\varepsilon $$\n",
    "\n",
    "### Equilibrio convergente\n",
    "\n",
    "Un punto di equilibrio $x_e$ è detto convergente se esiste un $\\delta > 0$ tale che, presa una condizione iniziale $x(0)$ tale che $||x(0) - x_e|| < \\delta$ allora $\\lim_{t \\to \\infty} x(t) = x_e$.\n",
    "\n",
    "### Equilibrio asintoticamente stabile\n",
    "\n",
    "Un punto di equilibrio stabile e convergente è detto asintoticamente stabile. \n",
    "\n",
    "### Teoremi  per sistemi LTI\n",
    "\n",
    "Nei sistemi non lineari convergenza e stabilità sono indipendenti. Nei sistemi LTI invece convergenza implica stabilità (ma non viceversa). \n",
    "\n",
    "Sia dato un sistema LTI ed un suo punto di equilibrio $x_e$. Si ha che:\n",
    "1. se $x_e$ convergente allora \n",
    "    1.  $x_e = (0,0)$;\n",
    "    2. $x_e$ unico punto di equilibrio;\n",
    "    3. $x_e$ converge globalmente;\n",
    "    4. $x_e$ stabile (quindi globalmente asintoticamente stabile);\n",
    "2. se $x_e$ stabile allora\n",
    "    1. ogni altro punto di equilibrio è stabile;\n",
    "3. $x_e$ convergente se e solo se la matrice A è di Hurwitz (continuo) o Schur (discreto) (= ha autovalori stabili);\n",
    "4. $x_e$ stabile se e solo se la matrice A ha autovalori stabili (caso limite con radice semplice).\n"
   ]
  },
  {
   "cell_type": "markdown",
   "metadata": {},
   "source": [
    "## Prerequisiti di Lyapunov\n",
    "\n",
    "### Funzione quadratica\n",
    "\n",
    "Una forma quadratica è una funzione definita a partire da una matrice simmetrica $P$ ($P^T = P$):\n",
    "$$ V(x) = x^T P x = \\sum_{i,j \\in [1,n]} x_i \\, p_{i,j} \\, x_j $$\n",
    "La forma quadratica è definita (semi-)positiva o (semi-)negativa se la sua matrice simmetrica associata è tale. La matrice simmetrica inoltre è sempre diagonalizzabile, con tutti gli autovalori reali, e matrice di trasformazione di base ortogonale:\n",
    "$$ P = U D U \\qquad U^T U = U U^T = I $$\n",
    "\n",
    "### Funzione di Lyapunov (continua)\n",
    "\n",
    "Dato il sistema continuo $\\dot{x}(t) = f(x(t))$, una funzione $V : W \\subseteq \\mathbb{R}^n \\to \\mathbb{R}$ è detta di Lyapunov se $V$ definita positiva e $\\dot{V}$ semi-definita negativa, con \n",
    "$$ \\dot{V} = (\\nabla V)^T f(x(t)) = \\left(\\frac{dV}{dx}\\right)^T f(x(t)) \\underbrace{=}_{\\text{ se forma quadratica}} (2Px)^T f(x(t))$$\n",
    "\n",
    "### Funzione di Lyapunov (discreta)\n",
    "\n",
    "Dato il sistema discreto $x(k+1) = f(x(k))$, una funzione $V$ è detta di Lyapunov se $V$ definita positiva e $\\Delta V$ semi-definita negativa, con \n",
    "$$ \\Delta V = V(f(x(k))) - V(x(k)) $$"
   ]
  },
  {
   "cell_type": "markdown",
   "metadata": {},
   "source": [
    "## Stabilità di Lyapunov\n",
    "\n",
    "### Criterio di stabilità di Lyapunov\n",
    "\n",
    "Sia l'origine $x_e$ stato di equilibrio per il sistema autonomo e sia $W$ un intorno dell'origine. Supponiamo esista $V : W \\to \\mathbb{R}$ definita positiva, continua con derivata prima continua.\n",
    "1. se $\\dot{V}, \\delta V$ semi-definita positiva allora l'origine è stabile;\n",
    "2. se $\\dot{V}, \\delta V$ definita positiva allora l'origine è asintoticamente stabile.\n",
    "\n",
    "### Criterio di instabilità di Lyapunov\n",
    "\n",
    "Siano date le condizioni del teorema precedente. Se $\\dot{V}, \\Delta V$ definita positiva in $W$ allora l'origine è instabile. \n",
    "\n",
    "### Criterio indiretto di Lyapunov\n",
    "\n",
    "Sia l'origine $x_e$ stato di equilibrio per il sistema. Sia $A$ matrice jacobiana del sistema linearizzato. Vale che:\n",
    "1. l'origine è asinoticamente stabile se tutti gli autovalori hanno $Re(\\lambda) < 0$ (continuo) o $||\\lambda||<1$ (dicreto);\n",
    "2. l'origine è instavile se almeno un autovalore è $Re(\\lambda) > 0$ (continuo) o $||\\lambda|| > 0$ (discreto)."
   ]
  },
  {
   "cell_type": "markdown",
   "metadata": {},
   "source": [
    "## Esercizi\n",
    "\n",
    "### Trovare i punti di equilibrio\n",
    "\n",
    "Dato un sistema non lineare, i suoi punti di equilibrio:\n",
    "1. se il sistema è continuo $\\dot{x}(t) = f(x(t))$ si trovano ponendo la derivata a zero, quindi $0 = f(x(t))$;\n",
    "2. se il sistema è discreto $x(k+1)=f(x(k))$ si trova cercando il punto fisso, quindi $x = f(x(k))$. \n",
    "\n",
    "L'esercizio può essere dato anche parametrizzato per un valore $\\alpha$. \n",
    "\n",
    "#### Trovare  punti di equilibrio nel continuo\n",
    "\n",
    "Determinare i punti di equilibrio per il seguente sistema continuo non lineare, per $\\alpha \\in \\{-1, 0, 1 \\}$ :\n",
    "\n",
    "$$ \\dot{x}_1 = -x_1^3 - x_2^2 $$\n",
    "$$ \\dot{x}_2 = x_1x_2 - \\alpha x_2^3 $$\n",
    "\n",
    "##### Soluzione\n",
    "\n",
    "Procedo ponendo uguale a zero le derivate prime:\n",
    "$$ \\begin{cases} x_1^3 + x_2^2 = 0 \\\\ x_1x_2 - \\alpha x_2^3 = 0 \\end{cases} $$"
   ]
  },
  {
   "cell_type": "code",
   "execution_count": 1,
   "metadata": {},
   "outputs": [
    {
     "name": "stdout",
     "output_type": "stream",
     "text": [
      "\n",
      "Caso alpha = -1\n",
      "Soluzione (   0,    0)\n",
      "Soluzione (  -1,   -1)\n",
      "Soluzione (  -1,    1)\n",
      "Soluzione (   1,  -1i)\n",
      "Soluzione (   1,   1i)\n",
      "\n",
      "Caso alpha = 0\n",
      "Soluzione (   0,    0)\n",
      "\n",
      "Caso alpha = 1\n",
      "Soluzione (  1i, 2^(1/2)*(- 1/2 - 1i/2))\n",
      "Soluzione ( -1i, 2^(1/2)*(- 1/2 + 1i/2))\n",
      "Soluzione ( -1i, 2^(1/2)*(1/2 - 1i/2))\n",
      "Soluzione (  1i, 2^(1/2)*(1/2 + 1i/2))\n",
      "Soluzione (   0,    0)\n"
     ]
    }
   ],
   "source": [
    "syms x1 x2 alpha;\n",
    "system = [x1^3 + x2^2 == 0, x1*x2 - alpha*x2^3 == 0];\n",
    "alphas = [-1, 0, 1];\n",
    "\n",
    "for i = 1:numel(alphas)\n",
    "    alpha_value = alphas(i);\n",
    "    system_eval = subs(system, alpha, alpha_value);\n",
    "    [sol_x, sol_y] = solve(system_eval, x1, x2);\n",
    "    fprintf('\\nCaso alpha = %d\\n', alpha_value);\n",
    "    for i = 1:length(sol_x)\n",
    "        x = sol_x(i);\n",
    "        y = sol_y(i);\n",
    "        fprintf('Soluzione (%4s, %4s)\\n', x, y);\n",
    "    end\n",
    "end"
   ]
  },
  {
   "cell_type": "markdown",
   "metadata": {},
   "source": [
    "#### Trovare  punti di equilibrio nel discreto\n",
    "\n",
    "Verificare che l'origine è un punto di equilibrio, per $\\alpha \\in \\mathbb{R}, \\alpha \\ge 0$:\n",
    "\n",
    "$$ x_1(k+1) = \\alpha x_1(k) + x_2(k) [x_1^2(k) + x_2^2(k)] $$\n",
    "$$ x_2(k+1) = -\\alpha x_2(k) + x_1(k) [x_1^2(k) + x_2^2(k)] $$"
   ]
  },
  {
   "cell_type": "code",
   "execution_count": 11,
   "metadata": {},
   "outputs": [
    {
     "name": "stdout",
     "output_type": "stream",
     "text": [
      " \n",
      "system_2 =\n",
      " \n",
      "[ 0 == 0, 0 == 0]\n",
      " \n"
     ]
    }
   ],
   "source": [
    "syms x1 x2 alpha;\n",
    "system = [x1 == alpha*x1 + x2 * (x1^2 + x2^2), x2 == (-1)*alpha*x2 + x1 * (x2^2 + x1^2)];\n",
    "system_1 = subs(system, x1, 0);\n",
    "system_2 = subs(system_1, x2, 0)"
   ]
  },
  {
   "cell_type": "markdown",
   "metadata": {},
   "source": [
    "L'origine è punto di equilibrio per ogni $\\alpha \\ge 0$."
   ]
  },
  {
   "cell_type": "markdown",
   "metadata": {},
   "source": [
    "### Linearizzazione\n",
    "\n",
    "#### Linearizzazione nel discreto\n",
    "\n",
    "Studiare la stabilità dell'origine al variare del parametro $\\alpha \\ge 0$ di:\n",
    "$$ x_1(k+1) = \\alpha x_1(k) + x_2(k) [x_1^2(k) + x_2^2(k)] $$\n",
    "$$ x_2(k+1) = -\\alpha x_2(k) + x_1(k) [x_1^2(k) + x_2^2(k)] $$"
   ]
  },
  {
   "cell_type": "markdown",
   "metadata": {},
   "source": [
    "##### Soluzione\n",
    "\n",
    "Calcolo la Jacobiana e la valuto in $(0,0)$:\n",
    "$$Jf(x_1, x_2) = \\begin{bmatrix} \\frac{\\partial f_1}{\\partial x_1} & \\frac{\\partial f_1}{\\partial x_2} \\\\ \\frac{\\partial f_2}{\\partial x_1} & \\frac{\\partial f_2}{\\partial x_2} \\end{bmatrix}\n",
    "= \\begin{bmatrix} \\alpha + 2 x_1 x_2 & x_1^2 + 3x_2^2 \\\\ 3x_1^2+ x_2^2 & -\\alpha + 2 x_1 x_2 \\end{bmatrix}$$\n",
    "$$Jf(0,0) = \\begin{bmatrix} \\alpha & 0 \\\\ 0 & -\\alpha \\end{bmatrix}$$\n",
    "Secondo il criterio indiretto di Lyapunov, il sistema è asintoticamente stabile se gli autovalori hanno $||\\lambda|| < 1$ (caso discreto). Trovo quindi gli autovalori:\n",
    "$\\lambda_{1,2} = \\pm \\alpha$. \n",
    "1. per $\\alpha = 0$ abbiamo un solo autovalore $\\lambda = 0$ asintoticamente stabile;\n",
    "2. per $\\alpha > 0$ abbiamo due autovalori distinti:\n",
    " 1. per $\\alpha < 1$ il sistema è asintoticamente stabile;\n",
    " 2. per $\\alpha = 1$ nulla si può dire;\n",
    " 3. per $\\alpha > 1$ il sistema è instabile."
   ]
  },
  {
   "cell_type": "code",
   "execution_count": 13,
   "metadata": {},
   "outputs": [
    {
     "name": "stdout",
     "output_type": "stream",
     "text": [
      "Jacobiana: \n",
      "jac =\n",
      " \n",
      "[ alpha + 2*x1*x2,   x1^2 + 3*x2^2]\n",
      "[   3*x1^2 + x2^2, 2*x1*x2 - alpha]\n",
      " \n",
      "\n",
      "\n",
      "Jacobiana in (0,0): \n",
      "jac_2 =\n",
      " \n",
      "[ alpha,      0]\n",
      "[     0, -alpha]\n",
      " \n",
      "\n",
      "\n",
      "Autovalori della jacobiana in (0,0): \n",
      "ans =\n",
      " \n",
      "  alpha\n",
      " -alpha\n",
      " \n"
     ]
    }
   ],
   "source": [
    "syms x1 x2 alpha;\n",
    "system = [alpha*x1 + x2 * (x1^2 + x2^2), (-1)*alpha*x2 + x1 * (x2^2 + x1^2)];\n",
    "fprintf(\"Jacobiana:\");\n",
    "jac = jacobian(system, [x1, x2])\n",
    "\n",
    "fprintf(\"\\n\\nJacobiana in (0,0):\");\n",
    "jac_1 = subs(jac, x1, 0);\n",
    "jac_2 = subs(jac_1, x2, 0)\n",
    "\n",
    "fprintf(\"\\n\\nAutovalori della jacobiana in (0,0):\");\n",
    "eig(jac_2)"
   ]
  },
  {
   "cell_type": "markdown",
   "metadata": {},
   "source": [
    "### Stabilità con Lyapunov\n",
    "\n",
    "Nei soli casi del cazzo dove la linearizzazione non funziona provo ad usare Lyapunov, usa sempre $V(x_1, x_2) = x_1^2 + x_2^2$.\n",
    "\n",
    "#### Lyapunov nel discreto \n",
    "\n",
    "Studiare la stabilità dell'origine nel caso indecidibile linearmente $\\alpha = 1$ di:\n",
    "$$ x_1(k+1) = x_1(k) + x_2(k) [x_1^2(k) + x_2^2(k)] $$\n",
    "$$ x_2(k+1) = -x_2(k) + x_1(k) [x_1^2(k) + x_2^2(k)] $$\n",
    "Calcoliamo \n",
    "$$\\Delta V(x_1, x_2) = V(x_1(k+1), x_2(k+1)) - V(x_1(k), x_2(k))$$\n",
    "cioè \n",
    "$$\\Delta V(x_1, x_2) = \\Big( x_1 + x_2 [x_1^2 + x_2^2] \\Big)^2 + \\Big(-x_2 + x_1 [x_1^2 + x_2^2] \\Big)^2 - x_1^2 - x_2^2 = \\Big( x_1^2 + x_2^2 \\Big)^3 $$\n",
    "\n",
    "Notiamo che $\\Delta V(x_1, x_2)$ è sempre definita positiva e che $\\Delta V(0,0) = 0$. \n",
    "\n",
    "Per il criterio di Lyapunov, l'origine è instabile se $\\alpha = 1$. "
   ]
  },
  {
   "cell_type": "code",
   "execution_count": 28,
   "metadata": {},
   "outputs": [
    {
     "name": "stdout",
     "output_type": "stream",
     "text": [
      "Sostituisco -1 ad alpha nel sistema:\n",
      " \n",
      "system =\n",
      " \n",
      "[ x1 + x2*(x1^2 + x2^2), x1*(x1^2 + x2^2) - x2]\n",
      " \n",
      "\n",
      "Calcolo Lyapunov nel discreto:\n",
      " \n",
      "DeltaV =\n",
      " \n",
      "(x1^2 + x2^2)^3\n",
      " \n",
      "\n",
      "Controllo origine uguale a zero: 0 (ok se stampato '0')\n"
     ]
    }
   ],
   "source": [
    "fprintf(\"Sostituisco -1 ad alpha nel sistema:\\n\")\n",
    "syms x1 x2 alpha;\n",
    "system = [alpha*x1 + x2 * (x1^2 + x2^2), (-1)*alpha*x2 + x1 * (x2^2 + x1^2)];\n",
    "system = subs(system, alpha, 1)\n",
    "\n",
    "fprintf(\"\\nCalcolo Lyapunov nel discreto:\\n\")\n",
    "V = inline('a^2 + b^2', 'a', 'b');\n",
    "DeltaV = V(system(1), system(2)) - V(x1, x2);\n",
    "DeltaV = simplify(DeltaV)\n",
    "\n",
    "fprintf(\"\\nControllo origine uguale a zero: %d (ok se stampato '0')\\n\", subs(subs(DeltaV, x1, 0), x2, 0))"
   ]
  },
  {
   "cell_type": "code",
   "execution_count": null,
   "metadata": {},
   "outputs": [],
   "source": []
  }
 ],
 "metadata": {
  "kernelspec": {
   "display_name": "Matlab",
   "language": "matlab",
   "name": "matlab"
  },
  "language_info": {
   "codemirror_mode": "octave",
   "file_extension": ".m",
   "help_links": [
    {
     "text": "MetaKernel Magics",
     "url": "https://github.com/calysto/metakernel/blob/master/metakernel/magics/README.md"
    }
   ],
   "mimetype": "text/x-octave",
   "name": "matlab",
   "version": "0.16.1"
  }
 },
 "nbformat": 4,
 "nbformat_minor": 2
}
